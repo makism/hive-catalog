{
 "cells": [
  {
   "cell_type": "code",
   "execution_count": null,
   "id": "ad2841b6-1745-412b-9a46-460fa741b81f",
   "metadata": {
    "execution": {
     "iopub.execute_input": "2023-10-27T10:44:49.280660Z",
     "iopub.status.busy": "2023-10-27T10:44:49.280298Z",
     "iopub.status.idle": "2023-10-27T10:44:49.620893Z",
     "shell.execute_reply": "2023-10-27T10:44:49.619669Z",
     "shell.execute_reply.started": "2023-10-27T10:44:49.280631Z"
    },
    "tags": []
   },
   "outputs": [],
   "source": [
    "from pyspark import SparkContext, SparkConf\n",
    "from pyspark.conf import SparkConf\n",
    "from pyspark.sql import SparkSession, HiveContext"
   ]
  },
  {
   "cell_type": "code",
   "execution_count": null,
   "id": "cb1471ff-c4f6-4544-ad44-1dda35a772df",
   "metadata": {
    "execution": {
     "iopub.execute_input": "2023-10-27T10:44:49.623167Z",
     "iopub.status.busy": "2023-10-27T10:44:49.622344Z",
     "iopub.status.idle": "2023-10-27T10:44:56.509867Z",
     "shell.execute_reply": "2023-10-27T10:44:56.508273Z",
     "shell.execute_reply.started": "2023-10-27T10:44:49.623133Z"
    },
    "tags": []
   },
   "outputs": [],
   "source": [
    "spark = (\n",
    "    SparkSession\n",
    "    .builder\n",
    "    .appName(\"test_hive\")\n",
    "    .config(\"spark.sql.catalogImplementation\", \"hive\")\n",
    "    .config(\"spark.hadoop.metastore.catalog.default\", \"hive\")\n",
    "    .config(\"spark.hadoop.hive.metastore.uris\", \"thrift://metastore:9083\")\n",
    "    .enableHiveSupport()\n",
    "    .getOrCreate()\n",
    ")"
   ]
  },
  {
   "cell_type": "code",
   "execution_count": null,
   "id": "b22b4ef9-1717-4ba5-a624-29a2b95586ec",
   "metadata": {
    "execution": {
     "iopub.execute_input": "2023-10-27T10:44:56.513524Z",
     "iopub.status.busy": "2023-10-27T10:44:56.512424Z",
     "iopub.status.idle": "2023-10-27T10:44:58.578076Z",
     "shell.execute_reply": "2023-10-27T10:44:58.576650Z",
     "shell.execute_reply.started": "2023-10-27T10:44:56.513457Z"
    },
    "tags": []
   },
   "outputs": [],
   "source": [
    "spark"
   ]
  },
  {
   "cell_type": "code",
   "execution_count": null,
   "id": "4d85d2e9-cce6-449d-8f84-e0529e3eba0a",
   "metadata": {
    "execution": {
     "iopub.execute_input": "2023-10-27T10:44:58.582488Z",
     "iopub.status.busy": "2023-10-27T10:44:58.581492Z",
     "iopub.status.idle": "2023-10-27T10:45:05.332218Z",
     "shell.execute_reply": "2023-10-27T10:45:05.330941Z",
     "shell.execute_reply.started": "2023-10-27T10:44:58.582439Z"
    },
    "tags": []
   },
   "outputs": [],
   "source": [
    "spark.catalog.listDatabases()"
   ]
  },
  {
   "cell_type": "code",
   "execution_count": null,
   "id": "11ba00d7-100f-4a68-9cc2-56387a41e419",
   "metadata": {
    "execution": {
     "iopub.execute_input": "2023-10-27T10:45:05.333999Z",
     "iopub.status.busy": "2023-10-27T10:45:05.333655Z",
     "iopub.status.idle": "2023-10-27T10:45:06.319187Z",
     "shell.execute_reply": "2023-10-27T10:45:06.317388Z",
     "shell.execute_reply.started": "2023-10-27T10:45:05.333962Z"
    },
    "tags": []
   },
   "outputs": [],
   "source": [
    "# spark.catalog.listTables(\"mydb\")"
   ]
  },
  {
   "cell_type": "code",
   "execution_count": null,
   "id": "c103b3ca-e8b7-4dba-b5c0-97fa2b360844",
   "metadata": {
    "execution": {
     "iopub.execute_input": "2023-10-27T11:12:54.562669Z",
     "iopub.status.busy": "2023-10-27T11:12:54.561673Z",
     "iopub.status.idle": "2023-10-27T11:12:56.332675Z",
     "shell.execute_reply": "2023-10-27T11:12:56.331263Z",
     "shell.execute_reply.started": "2023-10-27T11:12:54.562532Z"
    },
    "tags": []
   },
   "outputs": [],
   "source": [
    "# spark.sql(\"SELECT * FROM mydb.tbl\").show(vertical=True)"
   ]
  },
  {
   "cell_type": "code",
   "execution_count": null,
   "id": "bb0d9ab1-ba31-431a-be4a-c30590add57f",
   "metadata": {},
   "outputs": [],
   "source": []
  }
 ],
 "metadata": {
  "kernelspec": {
   "display_name": "Python 3 (ipykernel)",
   "language": "python",
   "name": "python3"
  },
  "language_info": {
   "codemirror_mode": {
    "name": "ipython",
    "version": 3
   },
   "file_extension": ".py",
   "mimetype": "text/x-python",
   "name": "python",
   "nbconvert_exporter": "python",
   "pygments_lexer": "ipython3",
   "version": "3.10.12"
  }
 },
 "nbformat": 4,
 "nbformat_minor": 5
}
